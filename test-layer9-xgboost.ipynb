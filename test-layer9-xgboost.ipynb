{
 "cells": [
  {
   "cell_type": "code",
   "execution_count": 22,
   "metadata": {
    "collapsed": true,
    "ExecuteTime": {
     "end_time": "2023-09-22T14:14:04.234148800Z",
     "start_time": "2023-09-22T14:14:00.573122100Z"
    }
   },
   "outputs": [],
   "source": [
    "import pandas as pd\n",
    "train = pd.read_csv('./speech-based-classification-layer-9/train.csv')\n",
    "valid = pd.read_csv('./speech-based-classification-layer-9/valid.csv')\n",
    "test = pd.read_csv('./speech-based-classification-layer-9/test.csv')"
   ]
  },
  {
   "cell_type": "code",
   "execution_count": 3,
   "outputs": [],
   "source": [
    "train1 = train.drop(['label_2', 'label_3', 'label_4'], axis=1)\n",
    "train2 = train.drop(['label_1', 'label_3', 'label_4'], axis=1)\n",
    "train3 = train.drop(['label_1', 'label_2', 'label_4'], axis=1)\n",
    "train4 = train.drop(['label_1', 'label_2', 'label_3'], axis=1)"
   ],
   "metadata": {
    "collapsed": false,
    "ExecuteTime": {
     "end_time": "2023-09-22T13:53:32.697562200Z",
     "start_time": "2023-09-22T13:53:32.486175700Z"
    }
   }
  },
  {
   "cell_type": "code",
   "execution_count": 4,
   "outputs": [],
   "source": [
    "from sklearn.svm import SVC"
   ],
   "metadata": {
    "collapsed": false,
    "ExecuteTime": {
     "end_time": "2023-09-22T13:53:44.341027800Z",
     "start_time": "2023-09-22T13:53:43.714833500Z"
    }
   }
  },
  {
   "cell_type": "code",
   "execution_count": 5,
   "outputs": [],
   "source": [
    "label1_model = SVC(kernel='linear').fit(train1.drop(['label_1'], axis=1), train1['label_1'])"
   ],
   "metadata": {
    "collapsed": false,
    "ExecuteTime": {
     "end_time": "2023-09-22T13:55:15.645488900Z",
     "start_time": "2023-09-22T13:54:05.252679300Z"
    }
   }
  },
  {
   "cell_type": "code",
   "execution_count": 8,
   "outputs": [],
   "source": [
    "train2.dropna(inplace=True)\n",
    "label2_model = SVC(kernel='linear').fit(train2.drop(['label_2'], axis=1), train2['label_2'])"
   ],
   "metadata": {
    "collapsed": false,
    "ExecuteTime": {
     "end_time": "2023-09-22T13:58:03.866381500Z",
     "start_time": "2023-09-22T13:55:56.134174400Z"
    }
   }
  },
  {
   "cell_type": "code",
   "execution_count": 9,
   "outputs": [],
   "source": [
    "label3_model = SVC(kernel='linear').fit(train3.drop(['label_3'], axis=1), train3['label_3'])"
   ],
   "metadata": {
    "collapsed": false,
    "ExecuteTime": {
     "end_time": "2023-09-22T13:58:15.022035Z",
     "start_time": "2023-09-22T13:58:03.868382600Z"
    }
   }
  },
  {
   "cell_type": "code",
   "execution_count": 10,
   "outputs": [],
   "source": [
    "label4_model = SVC(kernel='linear').fit(train4.drop(['label_4'], axis=1), train4['label_4'])"
   ],
   "metadata": {
    "collapsed": false,
    "ExecuteTime": {
     "end_time": "2023-09-22T13:59:42.716204600Z",
     "start_time": "2023-09-22T13:58:15.025032400Z"
    }
   }
  },
  {
   "cell_type": "code",
   "execution_count": 23,
   "outputs": [],
   "source": [
    "result = pd.DataFrame()\n",
    "result['ID'] = test['ID']\n",
    "test.drop(['ID'], axis=1, inplace=True)\n",
    "label1_pred = label1_model.predict(test)\n",
    "label2_pred = label2_model.predict(test)\n",
    "label3_pred = label3_model.predict(test)\n",
    "label4_pred = label4_model.predict(test)"
   ],
   "metadata": {
    "collapsed": false,
    "ExecuteTime": {
     "end_time": "2023-09-22T14:14:22.102541100Z",
     "start_time": "2023-09-22T14:14:09.630297200Z"
    }
   }
  },
  {
   "cell_type": "code",
   "execution_count": 24,
   "outputs": [],
   "source": [
    "result['label_1'] = label1_pred\n",
    "result['label_2'] = label2_pred\n",
    "result['label_3'] = label3_pred\n",
    "result['label_4'] = label4_pred"
   ],
   "metadata": {
    "collapsed": false,
    "ExecuteTime": {
     "end_time": "2023-09-22T14:14:34.199169600Z",
     "start_time": "2023-09-22T14:14:34.189613300Z"
    }
   }
  },
  {
   "cell_type": "code",
   "execution_count": 25,
   "outputs": [
    {
     "data": {
      "text/plain": "   ID  label_1  label_2  label_3  label_4\n0   1       26     22.0        0        2\n1   2       18     25.0        1        8\n2   3       16     30.0        1        6\n3   4        7     27.0        1        6\n4   5       58     29.0        0        6",
      "text/html": "<div>\n<style scoped>\n    .dataframe tbody tr th:only-of-type {\n        vertical-align: middle;\n    }\n\n    .dataframe tbody tr th {\n        vertical-align: top;\n    }\n\n    .dataframe thead th {\n        text-align: right;\n    }\n</style>\n<table border=\"1\" class=\"dataframe\">\n  <thead>\n    <tr style=\"text-align: right;\">\n      <th></th>\n      <th>ID</th>\n      <th>label_1</th>\n      <th>label_2</th>\n      <th>label_3</th>\n      <th>label_4</th>\n    </tr>\n  </thead>\n  <tbody>\n    <tr>\n      <th>0</th>\n      <td>1</td>\n      <td>26</td>\n      <td>22.0</td>\n      <td>0</td>\n      <td>2</td>\n    </tr>\n    <tr>\n      <th>1</th>\n      <td>2</td>\n      <td>18</td>\n      <td>25.0</td>\n      <td>1</td>\n      <td>8</td>\n    </tr>\n    <tr>\n      <th>2</th>\n      <td>3</td>\n      <td>16</td>\n      <td>30.0</td>\n      <td>1</td>\n      <td>6</td>\n    </tr>\n    <tr>\n      <th>3</th>\n      <td>4</td>\n      <td>7</td>\n      <td>27.0</td>\n      <td>1</td>\n      <td>6</td>\n    </tr>\n    <tr>\n      <th>4</th>\n      <td>5</td>\n      <td>58</td>\n      <td>29.0</td>\n      <td>0</td>\n      <td>6</td>\n    </tr>\n  </tbody>\n</table>\n</div>"
     },
     "execution_count": 25,
     "metadata": {},
     "output_type": "execute_result"
    }
   ],
   "source": [
    "result.head()"
   ],
   "metadata": {
    "collapsed": false,
    "ExecuteTime": {
     "end_time": "2023-09-22T14:14:35.542625300Z",
     "start_time": "2023-09-22T14:14:35.531072600Z"
    }
   }
  },
  {
   "cell_type": "code",
   "execution_count": 26,
   "outputs": [],
   "source": [
    "result.to_csv('./speech-based-classification-layer-9/pred.csv', index=False)"
   ],
   "metadata": {
    "collapsed": false,
    "ExecuteTime": {
     "end_time": "2023-09-22T14:15:37.342033700Z",
     "start_time": "2023-09-22T14:15:37.324034Z"
    }
   }
  },
  {
   "cell_type": "code",
   "execution_count": null,
   "outputs": [],
   "source": [],
   "metadata": {
    "collapsed": false
   }
  }
 ],
 "metadata": {
  "kernelspec": {
   "display_name": "Python 3",
   "language": "python",
   "name": "python3"
  },
  "language_info": {
   "codemirror_mode": {
    "name": "ipython",
    "version": 2
   },
   "file_extension": ".py",
   "mimetype": "text/x-python",
   "name": "python",
   "nbconvert_exporter": "python",
   "pygments_lexer": "ipython2",
   "version": "2.7.6"
  }
 },
 "nbformat": 4,
 "nbformat_minor": 0
}
