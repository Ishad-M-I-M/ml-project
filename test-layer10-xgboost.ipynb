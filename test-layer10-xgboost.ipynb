{
 "cells": [
  {
   "cell_type": "code",
   "execution_count": 8,
   "metadata": {
    "collapsed": true,
    "ExecuteTime": {
     "end_time": "2023-09-22T15:28:01.195796Z",
     "start_time": "2023-09-22T15:27:57.141671300Z"
    }
   },
   "outputs": [],
   "source": [
    "import pandas as pd\n",
    "train = pd.read_csv('./speech-based-classification-layer-9/train.csv')\n",
    "valid = pd.read_csv('./speech-based-classification-layer-9/valid.csv')\n",
    "test = pd.read_csv('./speech-based-classification-layer-9/test.csv')"
   ]
  },
  {
   "cell_type": "code",
   "execution_count": 9,
   "outputs": [],
   "source": [
    "train1 = train.drop(['label_2', 'label_3', 'label_4'], axis=1)\n",
    "train2 = train.drop(['label_1', 'label_3', 'label_4'], axis=1)\n",
    "train3 = train.drop(['label_1', 'label_2', 'label_4'], axis=1)\n",
    "train4 = train.drop(['label_1', 'label_2', 'label_3'], axis=1)"
   ],
   "metadata": {
    "collapsed": false,
    "ExecuteTime": {
     "end_time": "2023-09-22T15:28:01.447229300Z",
     "start_time": "2023-09-22T15:28:01.197792300Z"
    }
   }
  },
  {
   "cell_type": "code",
   "execution_count": 10,
   "outputs": [],
   "source": [
    "result = pd.DataFrame()\n",
    "result['ID'] = test['ID']\n",
    "test.drop(['ID'], axis=1, inplace=True)"
   ],
   "metadata": {
    "collapsed": false,
    "ExecuteTime": {
     "end_time": "2023-09-22T15:28:01.461362200Z",
     "start_time": "2023-09-22T15:28:01.448233300Z"
    }
   }
  },
  {
   "cell_type": "code",
   "execution_count": 11,
   "outputs": [],
   "source": [
    "import xgboost as xgb\n",
    "from sklearn.preprocessing import LabelEncoder"
   ],
   "metadata": {
    "collapsed": false,
    "ExecuteTime": {
     "end_time": "2023-09-22T15:28:01.468255500Z",
     "start_time": "2023-09-22T15:28:01.462365100Z"
    }
   }
  },
  {
   "cell_type": "code",
   "execution_count": 13,
   "outputs": [
    {
     "name": "stderr",
     "output_type": "stream",
     "text": [
      "C:\\Users\\ishad\\.virtualenvs\\lab2-WvWlswEB\\Lib\\site-packages\\xgboost\\data.py:335: FutureWarning: is_sparse is deprecated and will be removed in a future version. Check `isinstance(dtype, pd.SparseDtype)` instead.\n",
      "  if is_sparse(dtype):\n",
      "C:\\Users\\ishad\\.virtualenvs\\lab2-WvWlswEB\\Lib\\site-packages\\xgboost\\data.py:338: FutureWarning: is_categorical_dtype is deprecated and will be removed in a future version. Use isinstance(dtype, CategoricalDtype) instead\n",
      "  is_categorical_dtype(dtype) or is_pa_ext_categorical_dtype(dtype)\n",
      "C:\\Users\\ishad\\.virtualenvs\\lab2-WvWlswEB\\Lib\\site-packages\\xgboost\\data.py:384: FutureWarning: is_categorical_dtype is deprecated and will be removed in a future version. Use isinstance(dtype, CategoricalDtype) instead\n",
      "  if is_categorical_dtype(dtype):\n",
      "C:\\Users\\ishad\\.virtualenvs\\lab2-WvWlswEB\\Lib\\site-packages\\xgboost\\data.py:359: FutureWarning: is_categorical_dtype is deprecated and will be removed in a future version. Use isinstance(dtype, CategoricalDtype) instead\n",
      "  return is_int or is_bool or is_float or is_categorical_dtype(dtype)\n"
     ]
    },
    {
     "name": "stdout",
     "output_type": "stream",
     "text": [
      "[26 18  1  7 58 46  7 22 29 26 33  6 54 51 18 48 23  2 43 42 11 35 39 36\n",
      " 44 48 28 55  2 51 55 46  1 56 10 22 50  6 51 18 19 47  6 46 59 59 31 38\n",
      "  5 32 25 56 39 37 32 29 46 52 26 34 16 47 55 24 23 14 20  6 36 38 22 28\n",
      " 44 46 55 59 49  2 57 12 52 38 29  4 31 49 14 19 12 39 36 43 34 32 54 46\n",
      " 27  5  7 42 19 26 31 36 53 10 12 33 38  2 57 37 17 50 46 46 17 34 32 40\n",
      " 19 40  8 22 38 15 39  9 52 37 28 13 10 55 52 25 42 57 16 27 37 14 51 27\n",
      " 32 46 16 53 11 46 42 37 47 50  3 41 19 20 15  8  3 18  5 28 46 49 16 40\n",
      " 17 20 29 57 27 16 11 35 34 52  2 55  7 18 21 19 37 55 29 28 23 35 46 52\n",
      " 30 27  1  7 28 14  3 36 17 60 18  3 22  9 37 25 17 26 19 36 36 21  1 44\n",
      " 39 47 38  6 50 39 23 37 48 22 58 15 30 38 18 54  3 41 16  8 43 28  8 57\n",
      " 10 16  4 20 15 51 56 33 16 33 50 51  5 51 31  6  9 31 57 22  5 11 11 43\n",
      "  8  7 58 50 50 58 13  3 47 50 60 50 47 36 28 36 44  7 34 32  5  2 19 55\n",
      " 56 50 30 32 41 37 41 51 20 20  9 21 44 31 15 40 46 40 21 25 36 44 54 17\n",
      " 46 57 56 53 26  8 17  5 39 28  8 32 21 49 56 17 26 49 54 10  9  3 36 39\n",
      " 33 18 54 53 23 10 11 56 37 39 41 35 25 27  4 39 12 33 42 45 44 23  6 12\n",
      " 30 40 56 27  8 44 15 59 40 39 29 28  7 31  3 59  3 31 10 60 58 50 10 31\n",
      " 60 23  7  8 18 43 11 35  2 23 41 15 54 39 40 53 35 20 21 35 31 58  6 29\n",
      " 52 29 55 21 60 23 28 26 50 27 20 44 24  8 38 51 44 23  8 18 13 13  8 15\n",
      "  5 39 11 39 31 58 60 52 30 31  5 29 33 10 19 21 51 21 50 55 19 49 47 38\n",
      " 52  6 17 11 40 17 30  4  4 36 30 58 57 53 18 37 57 57 14 13 13 27 41 57\n",
      " 25 16 43 36 13 43 23 37 29  6 48 39 29 53 13 29 42 33 13 27 51 22 22 49\n",
      "  9 46 56 12 30 56 52 42 32 16 37  4 26  5 42 11 36 47 23 16 29 18 47 23\n",
      " 22 40 27 33 27 40 40 18 31  1  7 59 28 44 56 49 45 16 37 21 34 32 56 23\n",
      " 37 38  2 22 33 53 32 27 49 55 39 33 31 27 48 30 24 54 26 36 15 35 17 16\n",
      "  4 17 27 10 12 33  6 15 21  8 48 55 16 42 49 20 24 39 16 33 57 41  1 49\n",
      " 46  2 40 14 19 18 43 36 57 16 51  1  2 49 59 18  8 37 32 32 57 55  5 30\n",
      " 26 18 38 38 12 15 11 19 37 53 19  8 17 14  4 34 22 32 27 15  3 25 50  8\n",
      " 21 30  1 25 60 40 11 37 23 44 55 52 20 34  2 59 59 39 54 37 43  1 32 50\n",
      " 51  9 32  5 31  1 46 14 19 24 38 59  6 51 20 47 20  2 60 10 42 48 54 43\n",
      " 39  8 50 30 15  2  9  1 50 44 16  7 31 24 52 50  1 47 19 10 59 43 21 44\n",
      " 48 22 14 20 23 33 53 33 51  4 46 36 28 55 50 56 26 19  7  4 31 54 38 51]\n"
     ]
    },
    {
     "name": "stderr",
     "output_type": "stream",
     "text": [
      "C:\\Users\\ishad\\.virtualenvs\\lab2-WvWlswEB\\Lib\\site-packages\\xgboost\\data.py:335: FutureWarning: is_sparse is deprecated and will be removed in a future version. Check `isinstance(dtype, pd.SparseDtype)` instead.\n",
      "  if is_sparse(dtype):\n",
      "C:\\Users\\ishad\\.virtualenvs\\lab2-WvWlswEB\\Lib\\site-packages\\xgboost\\data.py:338: FutureWarning: is_categorical_dtype is deprecated and will be removed in a future version. Use isinstance(dtype, CategoricalDtype) instead\n",
      "  is_categorical_dtype(dtype) or is_pa_ext_categorical_dtype(dtype)\n",
      "C:\\Users\\ishad\\.virtualenvs\\lab2-WvWlswEB\\Lib\\site-packages\\xgboost\\data.py:384: FutureWarning: is_categorical_dtype is deprecated and will be removed in a future version. Use isinstance(dtype, CategoricalDtype) instead\n",
      "  if is_categorical_dtype(dtype):\n",
      "C:\\Users\\ishad\\.virtualenvs\\lab2-WvWlswEB\\Lib\\site-packages\\xgboost\\data.py:359: FutureWarning: is_categorical_dtype is deprecated and will be removed in a future version. Use isinstance(dtype, CategoricalDtype) instead\n",
      "  return is_int or is_bool or is_float or is_categorical_dtype(dtype)\n"
     ]
    }
   ],
   "source": [
    "le = LabelEncoder()\n",
    "label1 = train1['label_1']\n",
    "label1_encoded = le.fit_transform(label1)\n",
    "label1_model = xgb.XGBClassifier(n_estimators=100, max_depth=3).fit(train1.drop(['label_1'], axis=1), label1_encoded)\n",
    "label1_pred = label1_model.predict(test)\n",
    "label1_pred_decoded = le.inverse_transform(label1_pred)\n",
    "print(label1_pred_decoded)"
   ],
   "metadata": {
    "collapsed": false,
    "ExecuteTime": {
     "end_time": "2023-09-22T15:37:22.265288700Z",
     "start_time": "2023-09-22T15:28:35.540451800Z"
    }
   }
  },
  {
   "cell_type": "code",
   "execution_count": 16,
   "outputs": [],
   "source": [
    "result['label_1'] = label1_pred_decoded"
   ],
   "metadata": {
    "collapsed": false,
    "ExecuteTime": {
     "end_time": "2023-09-22T15:40:04.274727400Z",
     "start_time": "2023-09-22T15:40:04.266645100Z"
    }
   }
  },
  {
   "cell_type": "code",
   "execution_count": 17,
   "outputs": [
    {
     "name": "stderr",
     "output_type": "stream",
     "text": [
      "C:\\Users\\ishad\\.virtualenvs\\lab2-WvWlswEB\\Lib\\site-packages\\xgboost\\data.py:335: FutureWarning: is_sparse is deprecated and will be removed in a future version. Check `isinstance(dtype, pd.SparseDtype)` instead.\n",
      "  if is_sparse(dtype):\n",
      "C:\\Users\\ishad\\.virtualenvs\\lab2-WvWlswEB\\Lib\\site-packages\\xgboost\\data.py:338: FutureWarning: is_categorical_dtype is deprecated and will be removed in a future version. Use isinstance(dtype, CategoricalDtype) instead\n",
      "  is_categorical_dtype(dtype) or is_pa_ext_categorical_dtype(dtype)\n",
      "C:\\Users\\ishad\\.virtualenvs\\lab2-WvWlswEB\\Lib\\site-packages\\xgboost\\data.py:384: FutureWarning: is_categorical_dtype is deprecated and will be removed in a future version. Use isinstance(dtype, CategoricalDtype) instead\n",
      "  if is_categorical_dtype(dtype):\n",
      "C:\\Users\\ishad\\.virtualenvs\\lab2-WvWlswEB\\Lib\\site-packages\\xgboost\\data.py:359: FutureWarning: is_categorical_dtype is deprecated and will be removed in a future version. Use isinstance(dtype, CategoricalDtype) instead\n",
      "  return is_int or is_bool or is_float or is_categorical_dtype(dtype)\n"
     ]
    },
    {
     "name": "stdout",
     "output_type": "stream",
     "text": [
      "[22. 25. 30. 31. 29. 30. 27. 33. 28. 22. 26. 25. 27. 26. 23. 26. 28. 25.\n",
      " 29. 27. 33. 24. 29. 22. 26. 23. 28. 23. 25. 26. 23. 30. 30. 24. 28. 33.\n",
      " 24. 25. 26. 25. 23. 23. 25. 30. 31. 26. 26. 32. 26. 23. 22. 24. 29. 26.\n",
      " 23. 23. 30. 34. 23. 25. 30. 23. 23. 26. 26. 31. 25. 25. 26. 32. 33. 28.\n",
      " 61. 30. 23. 26. 26. 26. 27. 26. 34. 32. 24. 27. 26. 23. 31. 27. 26. 29.\n",
      " 22. 31. 25. 31. 27. 30. 26. 23. 27. 29. 26. 22. 26. 22. 24. 36. 26. 26.\n",
      " 32. 25. 27. 26. 26. 24. 30. 30. 26. 25. 23. 26. 27. 26. 41. 33. 32. 28.\n",
      " 29. 35. 34. 26. 23. 27. 36. 23. 27. 22. 26. 27. 30. 31. 26. 25. 26. 31.\n",
      " 23. 30. 30. 26. 33. 30. 28. 27. 23. 24. 31. 30. 23. 26. 28. 41. 31. 25.\n",
      " 25. 28. 30. 26. 30. 26. 26. 26. 23. 27. 31. 28. 33. 26. 26. 34. 30. 23.\n",
      " 27. 25. 26. 26. 27. 23. 25. 28. 28. 26. 30. 34. 28. 31. 26. 27. 28. 31.\n",
      " 31. 29. 26. 27. 25. 31. 33. 35. 26. 22. 26. 22. 25. 22. 22. 26. 23. 61.\n",
      " 26. 23. 32. 25. 24. 29. 27. 27. 26. 33. 29. 28. 28. 32. 23. 26. 31. 30.\n",
      " 30. 41. 31. 26. 41. 27. 36. 30. 26. 25. 28. 26. 27. 26. 30. 26. 24. 31.\n",
      " 25. 29. 26. 25. 35. 26. 27. 33. 25. 33. 26. 31. 41. 27. 29. 24. 24. 29.\n",
      " 25. 27. 23. 24. 27. 24. 23. 22. 28. 22. 26. 30. 25. 23. 25. 25. 23. 26.\n",
      " 27. 24. 28. 23. 30. 27. 30. 26. 25. 23. 26. 26. 61. 26. 28. 26. 28. 26.\n",
      " 26. 22. 22. 61. 31. 26. 30. 27. 31. 24. 22. 28. 26. 25. 26. 28. 41. 23.\n",
      " 26. 26. 31. 26. 22. 26. 27. 36. 35. 31. 22. 29. 25. 25. 24. 26. 28. 36.\n",
      " 33. 23. 27. 25. 26. 26. 22. 31. 23. 29. 26. 26. 29. 32. 26. 28. 25. 26.\n",
      " 28. 26. 24. 31. 41. 61. 28. 31. 28. 30. 26. 28. 30. 26. 31. 31. 31. 26.\n",
      " 36. 27. 29. 24. 36. 26. 27. 28. 27. 25. 25. 31. 33. 24. 25. 28. 30. 23.\n",
      " 23. 29. 26. 24. 24. 25. 26. 24. 26. 29. 25. 23. 34. 23. 26. 26. 26. 24.\n",
      " 28. 22. 24. 31. 26. 61. 26. 41. 32. 23. 61. 28. 31. 25. 26. 27. 41. 28.\n",
      " 25. 29. 33. 29. 26. 26. 27. 34. 28. 26. 25. 23. 26. 36. 26. 26. 26. 26.\n",
      " 24. 26. 23. 26. 23. 32. 34. 25. 26. 26. 26. 26. 28. 23. 23. 22. 28. 29.\n",
      " 27. 24. 28. 27. 31. 27. 31. 27. 27. 28. 30. 27. 26. 30. 31. 22. 27. 31.\n",
      " 28. 27. 23. 25. 26. 26. 28. 23. 23. 23. 24. 26. 27. 31. 26. 33. 33. 26.\n",
      " 35. 30. 24. 26. 28. 24. 34. 26. 23. 30. 27. 30. 22. 26. 26. 33. 26. 23.\n",
      " 28. 26. 23. 25. 23. 28. 33. 26. 31. 26. 31. 26. 26. 25. 26. 30. 27. 22.\n",
      " 28. 61. 22. 27. 31. 30. 29. 26. 25. 26. 24. 61. 27. 32. 25. 24. 31. 23.\n",
      " 23. 28. 26. 26. 26. 26. 26. 31. 23. 28. 26. 27. 31. 29. 25. 24. 26. 25.\n",
      " 23. 26. 23. 36. 26. 26. 25. 28. 26. 26. 26. 23. 30. 29. 23. 25. 26. 29.\n",
      " 30. 29. 24. 30. 30. 26. 30. 25. 26. 26. 23. 25. 31. 26. 27. 30. 26. 23.\n",
      " 25. 26. 23. 25. 41. 27. 23. 23. 27. 23. 25. 28. 22. 27. 33. 35. 26. 28.\n",
      " 33. 23. 27. 24. 23. 41. 26. 31. 23. 26. 33. 23. 31. 28. 31. 22. 24. 41.\n",
      " 24. 28. 26. 22. 27. 26. 33. 26. 23. 61. 23. 34. 25. 25. 23. 30. 27. 29.\n",
      " 24. 27. 29. 30. 23. 24. 26. 35. 23. 25. 26. 30. 30. 31. 23. 26. 32. 31.\n",
      " 25. 26. 25. 23. 23. 25. 27. 36. 29. 26. 26. 31. 26. 41. 24. 28. 28. 25.\n",
      " 35. 30. 24. 61. 30. 26. 23. 26. 34. 24. 25. 23. 23. 36. 26. 31. 26. 61.\n",
      " 23. 33. 26. 25. 28. 26. 26. 26. 29. 26. 24. 31. 28. 23. 28. 24. 22. 23.\n",
      " 27. 24. 24. 27. 32. 26.]\n"
     ]
    },
    {
     "name": "stderr",
     "output_type": "stream",
     "text": [
      "C:\\Users\\ishad\\.virtualenvs\\lab2-WvWlswEB\\Lib\\site-packages\\xgboost\\data.py:335: FutureWarning: is_sparse is deprecated and will be removed in a future version. Check `isinstance(dtype, pd.SparseDtype)` instead.\n",
      "  if is_sparse(dtype):\n",
      "C:\\Users\\ishad\\.virtualenvs\\lab2-WvWlswEB\\Lib\\site-packages\\xgboost\\data.py:338: FutureWarning: is_categorical_dtype is deprecated and will be removed in a future version. Use isinstance(dtype, CategoricalDtype) instead\n",
      "  is_categorical_dtype(dtype) or is_pa_ext_categorical_dtype(dtype)\n",
      "C:\\Users\\ishad\\.virtualenvs\\lab2-WvWlswEB\\Lib\\site-packages\\xgboost\\data.py:384: FutureWarning: is_categorical_dtype is deprecated and will be removed in a future version. Use isinstance(dtype, CategoricalDtype) instead\n",
      "  if is_categorical_dtype(dtype):\n",
      "C:\\Users\\ishad\\.virtualenvs\\lab2-WvWlswEB\\Lib\\site-packages\\xgboost\\data.py:359: FutureWarning: is_categorical_dtype is deprecated and will be removed in a future version. Use isinstance(dtype, CategoricalDtype) instead\n",
      "  return is_int or is_bool or is_float or is_categorical_dtype(dtype)\n"
     ]
    }
   ],
   "source": [
    "le = LabelEncoder()\n",
    "train2.dropna(inplace=True)\n",
    "label2 = train2['label_2']\n",
    "label2_encoded = le.fit_transform(label2)\n",
    "label2_model = xgb.XGBClassifier(n_estimators=100, max_depth=3).fit(train2.drop(['label_2'], axis=1), label2_encoded)\n",
    "label2_pred = label2_model.predict(test)\n",
    "label2_pred_decoded = le.inverse_transform(label2_pred)\n",
    "print(label2_pred_decoded)\n",
    "result['label_2'] = label2_pred_decoded"
   ],
   "metadata": {
    "collapsed": false,
    "ExecuteTime": {
     "end_time": "2023-09-22T15:45:00.615391Z",
     "start_time": "2023-09-22T15:42:36.790590800Z"
    }
   }
  },
  {
   "cell_type": "code",
   "execution_count": 18,
   "outputs": [
    {
     "name": "stderr",
     "output_type": "stream",
     "text": [
      "C:\\Users\\ishad\\.virtualenvs\\lab2-WvWlswEB\\Lib\\site-packages\\xgboost\\data.py:335: FutureWarning: is_sparse is deprecated and will be removed in a future version. Check `isinstance(dtype, pd.SparseDtype)` instead.\n",
      "  if is_sparse(dtype):\n",
      "C:\\Users\\ishad\\.virtualenvs\\lab2-WvWlswEB\\Lib\\site-packages\\xgboost\\data.py:338: FutureWarning: is_categorical_dtype is deprecated and will be removed in a future version. Use isinstance(dtype, CategoricalDtype) instead\n",
      "  is_categorical_dtype(dtype) or is_pa_ext_categorical_dtype(dtype)\n",
      "C:\\Users\\ishad\\.virtualenvs\\lab2-WvWlswEB\\Lib\\site-packages\\xgboost\\data.py:384: FutureWarning: is_categorical_dtype is deprecated and will be removed in a future version. Use isinstance(dtype, CategoricalDtype) instead\n",
      "  if is_categorical_dtype(dtype):\n",
      "C:\\Users\\ishad\\.virtualenvs\\lab2-WvWlswEB\\Lib\\site-packages\\xgboost\\data.py:359: FutureWarning: is_categorical_dtype is deprecated and will be removed in a future version. Use isinstance(dtype, CategoricalDtype) instead\n",
      "  return is_int or is_bool or is_float or is_categorical_dtype(dtype)\n"
     ]
    },
    {
     "name": "stdout",
     "output_type": "stream",
     "text": [
      "[0 1 1 1 0 1 1 1 1 0 1 1 1 1 1 1 1 1 0 1 1 1 1 1 1 1 0 1 1 1 1 1 1 0 1 1 1\n",
      " 1 1 1 1 0 1 1 0 1 1 1 1 1 1 0 1 1 1 1 1 0 0 1 1 0 1 1 1 1 1 1 0 1 1 0 1 1\n",
      " 1 0 1 1 0 0 0 1 1 1 1 1 1 1 0 1 0 0 1 1 1 1 1 1 1 1 1 0 1 0 1 1 0 1 1 1 0\n",
      " 1 1 1 1 1 1 1 1 1 1 1 1 1 1 1 1 1 0 1 0 1 1 1 0 1 1 0 1 1 1 1 1 1 1 1 1 1\n",
      " 1 1 1 1 0 1 1 1 1 1 1 1 1 1 1 0 1 1 1 1 1 1 1 0 1 1 1 1 1 0 1 1 1 1 1 1 1\n",
      " 1 1 0 1 1 1 0 1 1 1 1 0 1 1 0 1 0 1 1 1 1 1 1 1 0 1 0 0 1 1 1 1 0 1 1 1 1\n",
      " 1 1 1 1 0 1 1 1 1 1 1 1 1 1 0 0 1 0 1 1 1 1 1 1 0 1 1 1 1 1 1 0 1 1 1 1 0\n",
      " 1 1 1 1 0 1 1 0 1 1 0 1 1 0 1 0 1 0 0 0 0 1 1 1 1 1 1 1 1 0 1 1 1 1 1 1 1\n",
      " 1 1 1 1 1 1 1 1 1 1 1 1 0 1 1 1 1 0 0 1 0 1 1 1 1 0 1 1 1 1 0 1 0 1 1 1 1\n",
      " 1 0 1 1 1 1 1 1 1 1 0 1 1 1 1 1 1 1 1 0 1 1 1 1 1 1 0 1 1 0 1 1 1 1 0 1 1\n",
      " 1 0 1 1 1 0 1 1 1 0 0 1 1 1 0 1 1 1 1 0 1 1 1 1 1 1 1 1 1 1 1 1 1 1 1 0 1\n",
      " 1 0 1 1 1 0 1 0 0 1 1 1 1 1 1 1 1 1 1 1 1 1 1 1 1 1 1 1 1 1 0 0 0 1 1 1 1\n",
      " 1 1 1 1 1 1 1 1 1 1 0 1 0 1 1 1 1 1 1 1 1 0 1 0 0 1 1 1 0 0 1 1 1 1 1 0 1\n",
      " 1 0 0 1 0 1 1 1 1 1 1 1 1 1 1 1 1 1 1 1 1 1 1 1 1 0 0 1 0 0 1 1 1 1 1 0 1\n",
      " 1 1 0 0 1 1 1 1 0 1 1 1 1 1 1 1 1 1 1 1 1 0 0 1 0 0 1 1 1 1 1 1 0 1 1 1 1\n",
      " 1 1 1 1 1 1 1 1 1 1 1 1 1 1 1 0 0 1 1 1 1 1 1 1 1 0 1 1 0 1 1 1 1 1 1 1 1\n",
      " 1 1 1 1 0 1 1 1 1 1 1 1 1 1 0 0 0 1 1 1 1 1 0 1 1 1 1 1 0 1 1 1 0 1 1 1 0\n",
      " 1 1 1 1 1 1 1 1 1 1 1 1 1 1 1 1 1 1 1 1 1 1 1 0 1 1 1 1 1 1 0 1 1 1 0 0 1\n",
      " 1 1 0 1 1 1 1 1 1 1 1 1 1 1 1 1 1 0 1 1 1 1 1 1 0 1 1 1 1 0 1 1 1 1 1 1 1\n",
      " 1 1 1 1 1 1 1 0 1 1 0 1 1 1 0 1 1 1 1 1 1 1 1 1 1 1 1 1 0 0 1 1 0 0 1 1 1\n",
      " 1 1 1 1]\n"
     ]
    },
    {
     "name": "stderr",
     "output_type": "stream",
     "text": [
      "C:\\Users\\ishad\\.virtualenvs\\lab2-WvWlswEB\\Lib\\site-packages\\xgboost\\data.py:335: FutureWarning: is_sparse is deprecated and will be removed in a future version. Check `isinstance(dtype, pd.SparseDtype)` instead.\n",
      "  if is_sparse(dtype):\n",
      "C:\\Users\\ishad\\.virtualenvs\\lab2-WvWlswEB\\Lib\\site-packages\\xgboost\\data.py:338: FutureWarning: is_categorical_dtype is deprecated and will be removed in a future version. Use isinstance(dtype, CategoricalDtype) instead\n",
      "  is_categorical_dtype(dtype) or is_pa_ext_categorical_dtype(dtype)\n",
      "C:\\Users\\ishad\\.virtualenvs\\lab2-WvWlswEB\\Lib\\site-packages\\xgboost\\data.py:384: FutureWarning: is_categorical_dtype is deprecated and will be removed in a future version. Use isinstance(dtype, CategoricalDtype) instead\n",
      "  if is_categorical_dtype(dtype):\n",
      "C:\\Users\\ishad\\.virtualenvs\\lab2-WvWlswEB\\Lib\\site-packages\\xgboost\\data.py:359: FutureWarning: is_categorical_dtype is deprecated and will be removed in a future version. Use isinstance(dtype, CategoricalDtype) instead\n",
      "  return is_int or is_bool or is_float or is_categorical_dtype(dtype)\n"
     ]
    }
   ],
   "source": [
    "le = LabelEncoder()\n",
    "label3 = train3['label_3']\n",
    "label3_encoded = le.fit_transform(label3)\n",
    "label3_model = xgb.XGBClassifier(n_estimators=100, max_depth=3).fit(train3.drop(['label_3'], axis=1), label3_encoded)\n",
    "label3_pred = label3_model.predict(test)\n",
    "label3_pred_decoded = le.inverse_transform(label3_pred)\n",
    "print(label3_pred_decoded)\n",
    "result['label_3'] = label3_pred_decoded"
   ],
   "metadata": {
    "collapsed": false,
    "ExecuteTime": {
     "end_time": "2023-09-22T15:45:10.846715300Z",
     "start_time": "2023-09-22T15:45:00.616387700Z"
    }
   }
  },
  {
   "cell_type": "code",
   "execution_count": 19,
   "outputs": [
    {
     "name": "stderr",
     "output_type": "stream",
     "text": [
      "C:\\Users\\ishad\\.virtualenvs\\lab2-WvWlswEB\\Lib\\site-packages\\xgboost\\data.py:335: FutureWarning: is_sparse is deprecated and will be removed in a future version. Check `isinstance(dtype, pd.SparseDtype)` instead.\n",
      "  if is_sparse(dtype):\n",
      "C:\\Users\\ishad\\.virtualenvs\\lab2-WvWlswEB\\Lib\\site-packages\\xgboost\\data.py:338: FutureWarning: is_categorical_dtype is deprecated and will be removed in a future version. Use isinstance(dtype, CategoricalDtype) instead\n",
      "  is_categorical_dtype(dtype) or is_pa_ext_categorical_dtype(dtype)\n",
      "C:\\Users\\ishad\\.virtualenvs\\lab2-WvWlswEB\\Lib\\site-packages\\xgboost\\data.py:384: FutureWarning: is_categorical_dtype is deprecated and will be removed in a future version. Use isinstance(dtype, CategoricalDtype) instead\n",
      "  if is_categorical_dtype(dtype):\n",
      "C:\\Users\\ishad\\.virtualenvs\\lab2-WvWlswEB\\Lib\\site-packages\\xgboost\\data.py:359: FutureWarning: is_categorical_dtype is deprecated and will be removed in a future version. Use isinstance(dtype, CategoricalDtype) instead\n",
      "  return is_int or is_bool or is_float or is_categorical_dtype(dtype)\n"
     ]
    },
    {
     "name": "stdout",
     "output_type": "stream",
     "text": [
      "[ 2  6  6  6  6  6  6  6  6  2  6  6  6  6  6  6  6  6  6  0  6  2  6  6\n",
      "  6  6  6  6  6  6  6  6  6  6  6  6  6  6  6  8  4  3  6  6  6  6  6  6\n",
      "  6  0  1  6  6  7  0  6  6  5  6  6  6  3  6  2  6  6  6  6  6 12  6  6\n",
      "  6  6  6  6  6  6  6  6  5 12  6  6  6  6  6  4  6  6  6  6  6  6  6  6\n",
      "  6  6  6  0  4  2  6  6  6  6  6  6  6  6  6  6  6  6  6  6  6  6  6  6\n",
      "  6  6  6  6  0  9  6 11  5  6  6  6  6  6  6  1  6  6  6  7  6  6  6  7\n",
      "  0  6  6  6  6  6  6  7  3  6  6 10  4  6  9  6  6  8  6  6  6  6  6  6\n",
      "  6  6  6  6 12  6  6  6  6  5  6  6  6  8  6  4  6  6  6  6  6  2  6  5\n",
      "  6  7  6  6  6 12  6  6  6 13  8  6  6 11  6  6  6  2  6  6  6  6  6  6\n",
      "  6  3 12  6  6  6  6  7  6  6  6  9  6 12  8  6  6 10  6  6  6  6  6  6\n",
      "  6  6  6  6  9  6  6  6  6  6  6  6  6  6  6  6 11  6  6  6  6  6  6  6\n",
      "  6  6  6  6  6  6  6  6  3  6 13  6  6  6  6  6  6  6  6  0  6  6  4  6\n",
      "  6  6  6  6 10  7 10  6  6  6  6  6  6  6  9  6  6  6  6  1  6  6  2  6\n",
      "  6  6  6  6  2  6  6  6  6  6  6  0  6  6  6  6  2  6  6  6 11  6  6  6\n",
      "  6  8  6  6  6  6  6  6  7  6  6  6  1  7  6  6  6  6  0  6  6  6  6  6\n",
      "  6  6  6  6  6  6  9  6  6  6  6  6  6  6  6  6  6  6  6 13  6  6  6  6\n",
      " 13  6  6  6  8  6  6  6  6  6 10  6  6  6  6  6  6  6  6  2  6  6  6  6\n",
      "  5  6  6  6  6  6  6  6  6  6  6  6  6  6 12  6  6  6  6  8  6  6  6  9\n",
      "  6  6  6  6  6  6 13  5  6  6  6  6  6  6  6  6  6  6  6  6  4  6  3 12\n",
      "  6  6  6  6  6  6  6  6  6  6  6  6  6  6  8  7  6  6  6  6  6  7  6  6\n",
      "  6  6  6  6  6  6  6  7  6  6  6  6  6  6  6  6  6  6  6  6  6  6  6  6\n",
      " 11  6  6  6  6  6  5  6  6  6  7  6  2  6  0  6  6  3  6  6  6  8  3  6\n",
      "  6  6  7  6  7  6  6  8  6  6  6  6  6  6  6  6  6  6  7  6  6  0  6  6\n",
      "  6 12  6  6  6  6  6  6  6  6  6  6  6  7  6  6  2  6  2  6  9  2  6  6\n",
      "  6  6  7  6  6  6  6  3  6  6  6  6  6  0  6  6  2  6  6  6  6 10  6  6\n",
      "  6  6  6  6  4  8  6  6  6  6  6  6  6  6  6  8  6  6  0  0  6  6  6  6\n",
      "  2  6  6 11  6  9  6  4  6  6  4  6  6  6  6  6  6  0  7  6  6  1  6  6\n",
      "  6  6  6  1 13  6  6  6  6  6  6  5  6  6  6  6  6  6  6  7  6  6  0  6\n",
      "  6  6  0  6  6  6  6  7  4  2 12  6  6  6  6  6  6  6 13  6  6  6  6  6\n",
      "  6  6  6  6  9  6 11  6  6  6  6  6  6  2  5  6  6  3  4  6  6  6  6  6\n",
      "  6  6  6  6  6  6  6  6  6  6  6  6  6  6  6  6  2  6  6  6  2  6 12  6]\n"
     ]
    },
    {
     "name": "stderr",
     "output_type": "stream",
     "text": [
      "C:\\Users\\ishad\\.virtualenvs\\lab2-WvWlswEB\\Lib\\site-packages\\xgboost\\data.py:335: FutureWarning: is_sparse is deprecated and will be removed in a future version. Check `isinstance(dtype, pd.SparseDtype)` instead.\n",
      "  if is_sparse(dtype):\n",
      "C:\\Users\\ishad\\.virtualenvs\\lab2-WvWlswEB\\Lib\\site-packages\\xgboost\\data.py:338: FutureWarning: is_categorical_dtype is deprecated and will be removed in a future version. Use isinstance(dtype, CategoricalDtype) instead\n",
      "  is_categorical_dtype(dtype) or is_pa_ext_categorical_dtype(dtype)\n",
      "C:\\Users\\ishad\\.virtualenvs\\lab2-WvWlswEB\\Lib\\site-packages\\xgboost\\data.py:384: FutureWarning: is_categorical_dtype is deprecated and will be removed in a future version. Use isinstance(dtype, CategoricalDtype) instead\n",
      "  if is_categorical_dtype(dtype):\n",
      "C:\\Users\\ishad\\.virtualenvs\\lab2-WvWlswEB\\Lib\\site-packages\\xgboost\\data.py:359: FutureWarning: is_categorical_dtype is deprecated and will be removed in a future version. Use isinstance(dtype, CategoricalDtype) instead\n",
      "  return is_int or is_bool or is_float or is_categorical_dtype(dtype)\n"
     ]
    }
   ],
   "source": [
    "le = LabelEncoder()\n",
    "label4 = train4['label_4']\n",
    "label4_encoded = le.fit_transform(label4)\n",
    "label4_model = xgb.XGBClassifier(n_estimators=100, max_depth=3).fit(train4.drop(['label_4'], axis=1), label4_encoded)\n",
    "label4_pred = label4_model.predict(test)\n",
    "label4_pred_decoded = le.inverse_transform(label4_pred)\n",
    "print(label4_pred_decoded)\n",
    "result['label_4'] = label4_pred_decoded"
   ],
   "metadata": {
    "collapsed": false,
    "ExecuteTime": {
     "end_time": "2023-09-22T15:47:06.115084800Z",
     "start_time": "2023-09-22T15:45:10.847715900Z"
    }
   }
  },
  {
   "cell_type": "code",
   "execution_count": 20,
   "outputs": [
    {
     "data": {
      "text/plain": "   ID  label_1  label_2  label_3  label_4\n0   1       26     22.0        0        2\n1   2       18     25.0        1        6\n2   3        1     30.0        1        6\n3   4        7     31.0        1        6\n4   5       58     29.0        0        6",
      "text/html": "<div>\n<style scoped>\n    .dataframe tbody tr th:only-of-type {\n        vertical-align: middle;\n    }\n\n    .dataframe tbody tr th {\n        vertical-align: top;\n    }\n\n    .dataframe thead th {\n        text-align: right;\n    }\n</style>\n<table border=\"1\" class=\"dataframe\">\n  <thead>\n    <tr style=\"text-align: right;\">\n      <th></th>\n      <th>ID</th>\n      <th>label_1</th>\n      <th>label_2</th>\n      <th>label_3</th>\n      <th>label_4</th>\n    </tr>\n  </thead>\n  <tbody>\n    <tr>\n      <th>0</th>\n      <td>1</td>\n      <td>26</td>\n      <td>22.0</td>\n      <td>0</td>\n      <td>2</td>\n    </tr>\n    <tr>\n      <th>1</th>\n      <td>2</td>\n      <td>18</td>\n      <td>25.0</td>\n      <td>1</td>\n      <td>6</td>\n    </tr>\n    <tr>\n      <th>2</th>\n      <td>3</td>\n      <td>1</td>\n      <td>30.0</td>\n      <td>1</td>\n      <td>6</td>\n    </tr>\n    <tr>\n      <th>3</th>\n      <td>4</td>\n      <td>7</td>\n      <td>31.0</td>\n      <td>1</td>\n      <td>6</td>\n    </tr>\n    <tr>\n      <th>4</th>\n      <td>5</td>\n      <td>58</td>\n      <td>29.0</td>\n      <td>0</td>\n      <td>6</td>\n    </tr>\n  </tbody>\n</table>\n</div>"
     },
     "execution_count": 20,
     "metadata": {},
     "output_type": "execute_result"
    }
   ],
   "source": [
    "result.head()"
   ],
   "metadata": {
    "collapsed": false,
    "ExecuteTime": {
     "end_time": "2023-09-22T15:47:06.124738600Z",
     "start_time": "2023-09-22T15:47:06.120082Z"
    }
   }
  },
  {
   "cell_type": "code",
   "execution_count": 21,
   "outputs": [],
   "source": [
    "result.to_csv('./speech-based-classification-layer-10/pred-xgboost.csv', index=False)"
   ],
   "metadata": {
    "collapsed": false,
    "ExecuteTime": {
     "end_time": "2023-09-22T15:47:06.167450100Z",
     "start_time": "2023-09-22T15:47:06.125740Z"
    }
   }
  }
 ],
 "metadata": {
  "kernelspec": {
   "display_name": "Python 3",
   "language": "python",
   "name": "python3"
  },
  "language_info": {
   "codemirror_mode": {
    "name": "ipython",
    "version": 2
   },
   "file_extension": ".py",
   "mimetype": "text/x-python",
   "name": "python",
   "nbconvert_exporter": "python",
   "pygments_lexer": "ipython2",
   "version": "2.7.6"
  }
 },
 "nbformat": 4,
 "nbformat_minor": 0
}
